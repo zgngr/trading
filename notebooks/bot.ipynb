{
 "cells": [
  {
   "cell_type": "code",
   "execution_count": 92,
   "id": "a1a4d70b",
   "metadata": {},
   "outputs": [],
   "source": [
    "from binance import Client"
   ]
  },
  {
   "cell_type": "code",
   "execution_count": 93,
   "id": "622861b8",
   "metadata": {},
   "outputs": [],
   "source": [
    "import pandas as pd\n",
    "import ta\n",
    "import numpy as np\n",
    "import time"
   ]
  },
  {
   "cell_type": "code",
   "execution_count": 94,
   "id": "b7ce63d5",
   "metadata": {},
   "outputs": [],
   "source": [
    "client = Client()"
   ]
  },
  {
   "cell_type": "code",
   "execution_count": 95,
   "id": "0cca0d06",
   "metadata": {},
   "outputs": [],
   "source": [
    "def getminutedata(symbol, interval, lookback):\n",
    "    frame = pd.DataFrame(client.get_historical_klines(symbol, interval, lookback + ' min ago UTC'))\n",
    "    frame = frame.iloc[:,:6]\n",
    "    frame.columns = ['Time', 'Open', 'High', 'Low', 'Close', 'Volume']\n",
    "    frame = frame.set_index('Time')\n",
    "    frame.index = pd.to_datetime(frame.index, unit='ms')\n",
    "    frame = frame.astype(float)\n",
    "    return frame"
   ]
  },
  {
   "cell_type": "code",
   "execution_count": 96,
   "id": "16399e05",
   "metadata": {},
   "outputs": [],
   "source": [
    "df = getminutedata('ETHUSDT', '1m', '1000')"
   ]
  },
  {
   "cell_type": "code",
   "execution_count": 97,
   "id": "710dc4ad",
   "metadata": {},
   "outputs": [],
   "source": [
    "def applytechnicals(df):\n",
    "    df['%K'] = ta.momentum.stoch(df.High, df.Low, df.Close, window=14, smooth_window=3)\n",
    "    df['%D'] = df['%K'].rolling(3).mean()\n",
    "    df['rsi'] = ta.momentum.rsi(df.Close, window=14)\n",
    "    df['macd'] = ta.trend.macd_diff(df.Close)\n",
    "    df.dropna(inplace=True)"
   ]
  },
  {
   "cell_type": "code",
   "execution_count": 98,
   "id": "808f3374",
   "metadata": {},
   "outputs": [],
   "source": [
    "applytechnicals(df)"
   ]
  },
  {
   "cell_type": "code",
   "execution_count": 99,
   "id": "0a942640",
   "metadata": {},
   "outputs": [],
   "source": [
    "class Signals:\n",
    "    \n",
    "    def __init__(self, df, lags):\n",
    "        self.df = df\n",
    "        self.lags = lags\n",
    "        \n",
    "    def gettrigger(self):\n",
    "        dfx = pd.DataFrame()\n",
    "        for i in range(self.lags + 1):\n",
    "            mask = (self.df['%K'].shift(i) < 20) & (self.df['%D'].shift(i) < 20)\n",
    "            dfx = dfx.append(mask, ignore_index=True)\n",
    "        return dfx.sum(axis=0)\n",
    "    \n",
    "    def decide(self):\n",
    "        self.df['trigger'] = np.where(self.gettrigger(), 1, 0)\n",
    "        self.df['Buy'] = np.where((self.df.trigger) \n",
    "                            & (self.df['%K'].between(20,80)) \n",
    "                            & (self.df['%D'].between(20,80)) \n",
    "                            & (self.df.rsi > 50) \n",
    "                            & (self.df.macd > 0), 1, 0)\n",
    "            \n",
    "            "
   ]
  },
  {
   "cell_type": "code",
   "execution_count": 100,
   "id": "4d743854",
   "metadata": {},
   "outputs": [],
   "source": [
    "sig = Signals(df, 5)"
   ]
  },
  {
   "cell_type": "code",
   "execution_count": 101,
   "id": "55cded00",
   "metadata": {},
   "outputs": [],
   "source": [
    "sig.decide()"
   ]
  },
  {
   "cell_type": "code",
   "execution_count": null,
   "id": "b03332c0",
   "metadata": {},
   "outputs": [],
   "source": [
    "def strategy(pair, qty, open_position=True):\n",
    "    df = getminutedata(pair, '1m', '100')\n",
    "    applytechnicals(df)\n",
    "    sig = Signals(df, 25)\n",
    "    sig.decide()\n",
    "    print(f'current Close is '+ str(df.Close.iloc[-1]))\n",
    "    \n",
    "    if df.Buy.iloc[-1]:\n",
    "        print('BUY ORDER')\n",
    "        open_position = True\n",
    "        \n",
    "    while open_position:\n",
    "        time.sleep(0.5)\n",
    "        df = getminutedate(pair, '1m', '2')\n",
    "        print(f'current Close' + str(df.Close.iloc[-1]))\n",
    "\n"
   ]
  }
 ],
 "metadata": {
  "kernelspec": {
   "display_name": "Python 3 (ipykernel)",
   "language": "python",
   "name": "python3"
  },
  "language_info": {
   "codemirror_mode": {
    "name": "ipython",
    "version": 3
   },
   "file_extension": ".py",
   "mimetype": "text/x-python",
   "name": "python",
   "nbconvert_exporter": "python",
   "pygments_lexer": "ipython3",
   "version": "3.9.5"
  }
 },
 "nbformat": 4,
 "nbformat_minor": 5
}
