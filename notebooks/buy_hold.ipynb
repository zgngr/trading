{
 "cells": [
  {
   "cell_type": "code",
   "execution_count": 1,
   "id": "8899f114",
   "metadata": {},
   "outputs": [],
   "source": [
    "from binance import Client"
   ]
  },
  {
   "cell_type": "code",
   "execution_count": 2,
   "id": "9cfae43d",
   "metadata": {},
   "outputs": [],
   "source": [
    "client = Client()"
   ]
  },
  {
   "cell_type": "code",
   "execution_count": 3,
   "id": "26896e1b",
   "metadata": {},
   "outputs": [],
   "source": [
    "prices = client.get_all_tickers()"
   ]
  },
  {
   "cell_type": "code",
   "execution_count": 4,
   "id": "f561f1f0",
   "metadata": {},
   "outputs": [],
   "source": [
    "symbols = [float(price['price']) for price in prices if price['symbol'] == 'ETHUSDT'][0]"
   ]
  },
  {
   "cell_type": "code",
   "execution_count": 5,
   "id": "75c738c2",
   "metadata": {},
   "outputs": [
    {
     "data": {
      "text/plain": [
       "3398.22"
      ]
     },
     "execution_count": 5,
     "metadata": {},
     "output_type": "execute_result"
    }
   ],
   "source": [
    "symbols"
   ]
  },
  {
   "cell_type": "code",
   "execution_count": 27,
   "id": "82335451",
   "metadata": {},
   "outputs": [],
   "source": [
    "klines = client.get_historical_klines(\"ETHUSDT\", Client.KLINE_INTERVAL_1DAY, \"1 Jan, 2020\", \"5 Oct, 2021\")"
   ]
  },
  {
   "cell_type": "code",
   "execution_count": 28,
   "id": "607632f8",
   "metadata": {},
   "outputs": [],
   "source": [
    "initial = float(klines[0][4])\n",
    "current = float(klines[-1][4])\n",
    "perc_change = round((current/initial)-1, 2)"
   ]
  },
  {
   "cell_type": "code",
   "execution_count": 29,
   "id": "a08981ff",
   "metadata": {},
   "outputs": [
    {
     "data": {
      "text/plain": [
       "(130.77, 3395.9, 24.97)"
      ]
     },
     "execution_count": 29,
     "metadata": {},
     "output_type": "execute_result"
    }
   ],
   "source": [
    "(initial, current, perc_change)"
   ]
  }
 ],
 "metadata": {
  "kernelspec": {
   "display_name": "Python 3 (ipykernel)",
   "language": "python",
   "name": "python3"
  },
  "language_info": {
   "codemirror_mode": {
    "name": "ipython",
    "version": 3
   },
   "file_extension": ".py",
   "mimetype": "text/x-python",
   "name": "python",
   "nbconvert_exporter": "python",
   "pygments_lexer": "ipython3",
   "version": "3.9.5"
  }
 },
 "nbformat": 4,
 "nbformat_minor": 5
}
