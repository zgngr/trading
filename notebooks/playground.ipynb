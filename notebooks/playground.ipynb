{
 "cells": [
  {
   "cell_type": "code",
   "execution_count": 26,
   "metadata": {},
   "outputs": [],
   "source": [
    "import pandas as pd"
   ]
  },
  {
   "cell_type": "code",
   "execution_count": 27,
   "metadata": {},
   "outputs": [],
   "source": [
    "df = pd.DataFrame({\n",
    "    'Open': [551.27, 543.22, 529.2, 519.85, 523],\n",
    "    'Close': [546.13, 537.41, 516.71, 522.04, 519.59]\n",
    "}, index=['25-01-2021', '26-01-2021', '27-01-2021', '28-01-2021', '29-01-2021'])"
   ]
  },
  {
   "cell_type": "code",
   "execution_count": 33,
   "metadata": {},
   "outputs": [
    {
     "data": {
      "text/plain": [
       "26-01-2021    False\n",
       "27-01-2021    False\n",
       "28-01-2021     True\n",
       "29-01-2021    False\n",
       "Name: Close, dtype: bool"
      ]
     },
     "execution_count": 33,
     "metadata": {},
     "output_type": "execute_result"
    }
   ],
   "source": [
    "df['Close'].shift(1) < 520"
   ]
  }
 ],
 "metadata": {
  "interpreter": {
   "hash": "a3cd4f5956206cf641e4b68397cab3ee62313abe16a0c39ec5ad94f4c95e1265"
  },
  "kernelspec": {
   "display_name": "Python 3 (ipykernel)",
   "language": "python",
   "name": "python3"
  },
  "language_info": {
   "codemirror_mode": {
    "name": "ipython",
    "version": 3
   },
   "file_extension": ".py",
   "mimetype": "text/x-python",
   "name": "python",
   "nbconvert_exporter": "python",
   "pygments_lexer": "ipython3",
   "version": "3.9.5"
  }
 },
 "nbformat": 4,
 "nbformat_minor": 2
}
