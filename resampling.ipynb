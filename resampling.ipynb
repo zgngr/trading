{
 "cells": [
  {
   "cell_type": "code",
   "execution_count": 8,
   "source": [
    "import pandas as pd\n",
    "import os\n",
    "import backtrader as bt"
   ],
   "outputs": [],
   "metadata": {}
  },
  {
   "cell_type": "code",
   "execution_count": 25,
   "source": [
    "f = 'ETHUSDT_2021-2021_15m.csv'\n",
    "df = pd.read_csv(f'data/{f}', index_col=0)\n",
    "df.set_index('close_time', inplace=True)\n",
    "df.index = pd.to_datetime(df.index, unit='ms')\n",
    "df.columns\n",
    "\n",
    "df = df.close.resample('1d').ohlc()\n",
    "\n",
    "from datetime import datetime\n",
    "from dateutil.relativedelta import relativedelta\n",
    "now = datetime.now()\n",
    "f = df.index > (now - relativedelta(days=20))\n",
    "df = df.loc[f]\n",
    "# df.index[0]\n",
    "df.index[-1].strftime(\"%Y-%m-%d\")"
   ],
   "outputs": [
    {
     "output_type": "execute_result",
     "data": {
      "text/plain": [
       "'2021-09-27'"
      ]
     },
     "metadata": {},
     "execution_count": 25
    }
   ],
   "metadata": {}
  },
  {
   "cell_type": "code",
   "execution_count": 50,
   "source": [
    "# from datetime import datetime, timedelta\n",
    "# from dateutil.relativedelta import relativedelta\n",
    "\n",
    "# # datetime.now().strftime(\"%Y-%m-%d\")\n",
    "# n = datetime.now() - relativedelta(months=6)\n",
    "# n.strftime(\"%Y-%m-%d\")"
   ],
   "outputs": [
    {
     "output_type": "execute_result",
     "data": {
      "text/plain": [
       "'2021-03-30'"
      ]
     },
     "metadata": {},
     "execution_count": 50
    }
   ],
   "metadata": {}
  }
 ],
 "metadata": {
  "orig_nbformat": 4,
  "language_info": {
   "name": "python",
   "version": "3.9.7",
   "mimetype": "text/x-python",
   "codemirror_mode": {
    "name": "ipython",
    "version": 3
   },
   "pygments_lexer": "ipython3",
   "nbconvert_exporter": "python",
   "file_extension": ".py"
  },
  "kernelspec": {
   "name": "python3",
   "display_name": "Python 3.9.7 64-bit ('.venv': venv)"
  },
  "interpreter": {
   "hash": "a3cd4f5956206cf641e4b68397cab3ee62313abe16a0c39ec5ad94f4c95e1265"
  }
 },
 "nbformat": 4,
 "nbformat_minor": 2
}