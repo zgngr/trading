{
 "cells": [
  {
   "cell_type": "code",
   "execution_count": 7,
   "source": [
    "import pandas as pd\n",
    "import os\n",
    "import backtrader as bt"
   ],
   "outputs": [],
   "metadata": {}
  },
  {
   "cell_type": "code",
   "execution_count": 55,
   "source": [
    "f = 'ETHUSDT_2021-2021_15m.csv'\n",
    "df = pd.read_csv(f'data/{f}', index_col=0)\n",
    "df.set_index('close_time', inplace=True)\n",
    "df.index = pd.to_datetime(df.index, unit='ms')\n",
    "len(df)\n",
    "\n",
    "hop = df.close.resample('Q').interpolate()\n",
    "hop\n",
    "\n",
    "\n",
    "\n",
    "\n",
    "# data = bt.feeds.PandasData(\n",
    "#     dataname=df,\n",
    "#     timeframe=bt.TimeFrame.Minutes, \n",
    "#     compression=15\n",
    "# )\n",
    "\n",
    "# cerebro = bt.Cerebro(stdstats=False)\n",
    "# week = cerebro.resampledata(data, timeframe=bt.TimeFrame.Minutes, compression=672)\n",
    "# week"
   ],
   "outputs": [
    {
     "output_type": "execute_result",
     "data": {
      "text/plain": [
       "close_time\n",
       "2021-03-31    1529.382817\n",
       "2021-06-30    2591.402739\n",
       "2021-09-30    2839.812306\n",
       "Freq: Q-DEC, Name: close, dtype: float64"
      ]
     },
     "metadata": {},
     "execution_count": 55
    }
   ],
   "metadata": {}
  }
 ],
 "metadata": {
  "orig_nbformat": 4,
  "language_info": {
   "name": "python",
   "version": "3.9.7",
   "mimetype": "text/x-python",
   "codemirror_mode": {
    "name": "ipython",
    "version": 3
   },
   "pygments_lexer": "ipython3",
   "nbconvert_exporter": "python",
   "file_extension": ".py"
  },
  "kernelspec": {
   "name": "python3",
   "display_name": "Python 3.9.7 64-bit ('.venv': venv)"
  },
  "interpreter": {
   "hash": "a3cd4f5956206cf641e4b68397cab3ee62313abe16a0c39ec5ad94f4c95e1265"
  }
 },
 "nbformat": 4,
 "nbformat_minor": 2
}